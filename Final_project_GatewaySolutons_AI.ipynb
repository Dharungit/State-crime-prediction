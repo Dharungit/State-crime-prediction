{
  "nbformat": 4,
  "nbformat_minor": 0,
  "metadata": {
    "colab": {
      "name": "Final project_GatewaySolutons_AI.ipynb",
      "provenance": [],
      "collapsed_sections": [],
      "mount_file_id": "1cQQxiD1Zu47eUFVHO0617xovAfkf7BHQ",
      "authorship_tag": "ABX9TyMRde6fwIevNSklGAG2cqqD",
      "include_colab_link": true
    },
    "kernelspec": {
      "name": "python3",
      "display_name": "Python 3"
    },
    "language_info": {
      "name": "python"
    }
  },
  "cells": [
    {
      "cell_type": "markdown",
      "metadata": {
        "id": "view-in-github",
        "colab_type": "text"
      },
      "source": [
        "<a href=\"https://colab.research.google.com/github/Dharungit/State-crime-prediction/blob/main/Final_project_GatewaySolutons_AI.ipynb\" target=\"_parent\"><img src=\"https://colab.research.google.com/assets/colab-badge.svg\" alt=\"Open In Colab\"/></a>"
      ]
    },
    {
      "cell_type": "markdown",
      "metadata": {
        "id": "aSi2FW6rZTZE"
      },
      "source": [
        "# **Final Project Gateway Solutions AI Intern**\n",
        "Name: Dharun \n",
        "\n",
        "Rollnum: 19CS033 \n",
        "\n"
      ]
    },
    {
      "cell_type": "code",
      "metadata": {
        "id": "EsnLyufrvS_t"
      },
      "source": [
        "import pandas as pd\n",
        "import numpy as np\n",
        "from sklearn.linear_model import LinearRegression\n",
        "from sklearn.model_selection import train_test_split\n",
        "from sklearn.preprocessing import LabelEncoder\n",
        "import seaborn as sns\n",
        "import matplotlib.pyplot as plt\n",
        "from sklearn.metrics import mean_absolute_error,median_absolute_error,r2_score as r2"
      ],
      "execution_count": null,
      "outputs": []
    },
    {
      "cell_type": "code",
      "metadata": {
        "colab": {
          "base_uri": "https://localhost:8080/",
          "height": 222
        },
        "id": "DuAQHDUwvTS2",
        "outputId": "689478a9-81d4-48d4-c1ce-a283853abd86"
      },
      "source": [
        "stateCrime = pd.read_csv('/content/drive/MyDrive/Datasets/state_crime.csv')\n",
        "stateCrime.head()"
      ],
      "execution_count": null,
      "outputs": [
        {
          "output_type": "execute_result",
          "data": {
            "text/html": [
              "<div>\n",
              "<style scoped>\n",
              "    .dataframe tbody tr th:only-of-type {\n",
              "        vertical-align: middle;\n",
              "    }\n",
              "\n",
              "    .dataframe tbody tr th {\n",
              "        vertical-align: top;\n",
              "    }\n",
              "\n",
              "    .dataframe thead th {\n",
              "        text-align: right;\n",
              "    }\n",
              "</style>\n",
              "<table border=\"1\" class=\"dataframe\">\n",
              "  <thead>\n",
              "    <tr style=\"text-align: right;\">\n",
              "      <th></th>\n",
              "      <th>State</th>\n",
              "      <th>Year</th>\n",
              "      <th>Data.Population</th>\n",
              "      <th>Data.Rates.Property.All</th>\n",
              "      <th>Data.Rates.Property.Burglary</th>\n",
              "      <th>Data.Rates.Property.Larceny</th>\n",
              "      <th>Data.Rates.Property.Motor</th>\n",
              "      <th>Data.Rates.Violent.All</th>\n",
              "      <th>Data.Rates.Violent.Assault</th>\n",
              "      <th>Data.Rates.Violent.Murder</th>\n",
              "      <th>Data.Rates.Violent.Rape</th>\n",
              "      <th>Data.Rates.Violent.Robbery</th>\n",
              "      <th>Data.Totals.Property.All</th>\n",
              "      <th>Data.Totals.Property.Burglary</th>\n",
              "      <th>Data.Totals.Property.Larceny</th>\n",
              "      <th>Data.Totals.Property.Motor</th>\n",
              "      <th>Data.Totals.Violent.All</th>\n",
              "      <th>Data.Totals.Violent.Assault</th>\n",
              "      <th>Data.Totals.Violent.Murder</th>\n",
              "      <th>Data.Totals.Violent.Rape</th>\n",
              "      <th>Data.Totals.Violent.Robbery</th>\n",
              "    </tr>\n",
              "  </thead>\n",
              "  <tbody>\n",
              "    <tr>\n",
              "      <th>0</th>\n",
              "      <td>Alabama</td>\n",
              "      <td>1960</td>\n",
              "      <td>3266740</td>\n",
              "      <td>1035.4</td>\n",
              "      <td>355.9</td>\n",
              "      <td>592.1</td>\n",
              "      <td>87.3</td>\n",
              "      <td>186.6</td>\n",
              "      <td>138.1</td>\n",
              "      <td>12.4</td>\n",
              "      <td>8.6</td>\n",
              "      <td>27.5</td>\n",
              "      <td>33823</td>\n",
              "      <td>11626</td>\n",
              "      <td>19344</td>\n",
              "      <td>2853</td>\n",
              "      <td>6097</td>\n",
              "      <td>4512</td>\n",
              "      <td>406</td>\n",
              "      <td>281</td>\n",
              "      <td>898</td>\n",
              "    </tr>\n",
              "    <tr>\n",
              "      <th>1</th>\n",
              "      <td>Alabama</td>\n",
              "      <td>1961</td>\n",
              "      <td>3302000</td>\n",
              "      <td>985.5</td>\n",
              "      <td>339.3</td>\n",
              "      <td>569.4</td>\n",
              "      <td>76.8</td>\n",
              "      <td>168.5</td>\n",
              "      <td>128.9</td>\n",
              "      <td>12.9</td>\n",
              "      <td>7.6</td>\n",
              "      <td>19.1</td>\n",
              "      <td>32541</td>\n",
              "      <td>11205</td>\n",
              "      <td>18801</td>\n",
              "      <td>2535</td>\n",
              "      <td>5564</td>\n",
              "      <td>4255</td>\n",
              "      <td>427</td>\n",
              "      <td>252</td>\n",
              "      <td>630</td>\n",
              "    </tr>\n",
              "    <tr>\n",
              "      <th>2</th>\n",
              "      <td>Alabama</td>\n",
              "      <td>1962</td>\n",
              "      <td>3358000</td>\n",
              "      <td>1067.0</td>\n",
              "      <td>349.1</td>\n",
              "      <td>634.5</td>\n",
              "      <td>83.4</td>\n",
              "      <td>157.3</td>\n",
              "      <td>119.0</td>\n",
              "      <td>9.4</td>\n",
              "      <td>6.5</td>\n",
              "      <td>22.5</td>\n",
              "      <td>35829</td>\n",
              "      <td>11722</td>\n",
              "      <td>21306</td>\n",
              "      <td>2801</td>\n",
              "      <td>5283</td>\n",
              "      <td>3995</td>\n",
              "      <td>316</td>\n",
              "      <td>218</td>\n",
              "      <td>754</td>\n",
              "    </tr>\n",
              "    <tr>\n",
              "      <th>3</th>\n",
              "      <td>Alabama</td>\n",
              "      <td>1963</td>\n",
              "      <td>3347000</td>\n",
              "      <td>1150.9</td>\n",
              "      <td>376.9</td>\n",
              "      <td>683.4</td>\n",
              "      <td>90.6</td>\n",
              "      <td>182.7</td>\n",
              "      <td>142.1</td>\n",
              "      <td>10.2</td>\n",
              "      <td>5.7</td>\n",
              "      <td>24.7</td>\n",
              "      <td>38521</td>\n",
              "      <td>12614</td>\n",
              "      <td>22874</td>\n",
              "      <td>3033</td>\n",
              "      <td>6115</td>\n",
              "      <td>4755</td>\n",
              "      <td>340</td>\n",
              "      <td>192</td>\n",
              "      <td>828</td>\n",
              "    </tr>\n",
              "    <tr>\n",
              "      <th>4</th>\n",
              "      <td>Alabama</td>\n",
              "      <td>1964</td>\n",
              "      <td>3407000</td>\n",
              "      <td>1358.7</td>\n",
              "      <td>466.6</td>\n",
              "      <td>784.1</td>\n",
              "      <td>108.0</td>\n",
              "      <td>213.1</td>\n",
              "      <td>163.0</td>\n",
              "      <td>9.3</td>\n",
              "      <td>11.7</td>\n",
              "      <td>29.1</td>\n",
              "      <td>46290</td>\n",
              "      <td>15898</td>\n",
              "      <td>26713</td>\n",
              "      <td>3679</td>\n",
              "      <td>7260</td>\n",
              "      <td>5555</td>\n",
              "      <td>316</td>\n",
              "      <td>397</td>\n",
              "      <td>992</td>\n",
              "    </tr>\n",
              "  </tbody>\n",
              "</table>\n",
              "</div>"
            ],
            "text/plain": [
              "     State  Year  ...  Data.Totals.Violent.Rape  Data.Totals.Violent.Robbery\n",
              "0  Alabama  1960  ...                       281                          898\n",
              "1  Alabama  1961  ...                       252                          630\n",
              "2  Alabama  1962  ...                       218                          754\n",
              "3  Alabama  1963  ...                       192                          828\n",
              "4  Alabama  1964  ...                       397                          992\n",
              "\n",
              "[5 rows x 21 columns]"
            ]
          },
          "metadata": {
            "tags": []
          },
          "execution_count": 661
        }
      ]
    },
    {
      "cell_type": "code",
      "metadata": {
        "id": "pe1Z3vBp3Y_e"
      },
      "source": [
        "le_st = LabelEncoder()\n",
        "stateCrime['state'] = le_st.fit_transform(stateCrime['State'])\n",
        "stateCrime = stateCrime.drop(['State'],axis=1)\n",
        "stateCrime['state']"
      ],
      "execution_count": null,
      "outputs": []
    },
    {
      "cell_type": "code",
      "metadata": {
        "colab": {
          "base_uri": "https://localhost:8080/"
        },
        "id": "js8froh2xBjm",
        "outputId": "55df4558-9088-4721-9a75-722372e45b1b"
      },
      "source": [
        "stateCrime.info()"
      ],
      "execution_count": null,
      "outputs": [
        {
          "output_type": "stream",
          "text": [
            "<class 'pandas.core.frame.DataFrame'>\n",
            "RangeIndex: 2751 entries, 0 to 2750\n",
            "Data columns (total 21 columns):\n",
            " #   Column                         Non-Null Count  Dtype  \n",
            "---  ------                         --------------  -----  \n",
            " 0   State                          2751 non-null   object \n",
            " 1   Year                           2751 non-null   int64  \n",
            " 2   Data.Population                2751 non-null   int64  \n",
            " 3   Data.Rates.Property.All        2751 non-null   float64\n",
            " 4   Data.Rates.Property.Burglary   2751 non-null   float64\n",
            " 5   Data.Rates.Property.Larceny    2751 non-null   float64\n",
            " 6   Data.Rates.Property.Motor      2751 non-null   float64\n",
            " 7   Data.Rates.Violent.All         2751 non-null   float64\n",
            " 8   Data.Rates.Violent.Assault     2751 non-null   float64\n",
            " 9   Data.Rates.Violent.Murder      2751 non-null   float64\n",
            " 10  Data.Rates.Violent.Rape        2751 non-null   float64\n",
            " 11  Data.Rates.Violent.Robbery     2751 non-null   float64\n",
            " 12  Data.Totals.Property.All       2751 non-null   int64  \n",
            " 13  Data.Totals.Property.Burglary  2751 non-null   int64  \n",
            " 14  Data.Totals.Property.Larceny   2751 non-null   int64  \n",
            " 15  Data.Totals.Property.Motor     2751 non-null   int64  \n",
            " 16  Data.Totals.Violent.All        2751 non-null   int64  \n",
            " 17  Data.Totals.Violent.Assault    2751 non-null   int64  \n",
            " 18  Data.Totals.Violent.Murder     2751 non-null   int64  \n",
            " 19  Data.Totals.Violent.Rape       2751 non-null   int64  \n",
            " 20  Data.Totals.Violent.Robbery    2751 non-null   int64  \n",
            "dtypes: float64(9), int64(11), object(1)\n",
            "memory usage: 451.5+ KB\n"
          ],
          "name": "stdout"
        }
      ]
    },
    {
      "cell_type": "code",
      "metadata": {
        "colab": {
          "base_uri": "https://localhost:8080/"
        },
        "id": "9EMnmcRXvudt",
        "outputId": "de3fc933-dc3e-4ca5-a4ce-cdb6efbf5d1b"
      },
      "source": [
        "stateCrime.isnull().sum()"
      ],
      "execution_count": null,
      "outputs": [
        {
          "output_type": "execute_result",
          "data": {
            "text/plain": [
              "Year                             0\n",
              "Data.Population                  0\n",
              "Data.Rates.Property.All          0\n",
              "Data.Rates.Property.Burglary     0\n",
              "Data.Rates.Property.Larceny      0\n",
              "Data.Rates.Property.Motor        0\n",
              "Data.Rates.Violent.All           0\n",
              "Data.Rates.Violent.Assault       0\n",
              "Data.Rates.Violent.Murder        0\n",
              "Data.Rates.Violent.Rape          0\n",
              "Data.Rates.Violent.Robbery       0\n",
              "Data.Totals.Property.All         0\n",
              "Data.Totals.Property.Burglary    0\n",
              "Data.Totals.Property.Larceny     0\n",
              "Data.Totals.Property.Motor       0\n",
              "Data.Totals.Violent.All          0\n",
              "Data.Totals.Violent.Assault      0\n",
              "Data.Totals.Violent.Murder       0\n",
              "Data.Totals.Violent.Rape         0\n",
              "Data.Totals.Violent.Robbery      0\n",
              "state                            0\n",
              "dtype: int64"
            ]
          },
          "metadata": {
            "tags": []
          },
          "execution_count": 667
        }
      ]
    },
    {
      "cell_type": "code",
      "metadata": {
        "colab": {
          "base_uri": "https://localhost:8080/"
        },
        "id": "UIAgnspEm6qg",
        "outputId": "8efd04f3-dd4c-44a8-fffc-c2fc748669cc"
      },
      "source": [
        "stateCrime.duplicated().sum()"
      ],
      "execution_count": null,
      "outputs": [
        {
          "output_type": "execute_result",
          "data": {
            "text/plain": [
              "0"
            ]
          },
          "metadata": {
            "tags": []
          },
          "execution_count": 668
        }
      ]
    },
    {
      "cell_type": "markdown",
      "metadata": {
        "id": "O4-Azc7gDdVu"
      },
      "source": [
        "# *Data Visualization*"
      ]
    },
    {
      "cell_type": "code",
      "metadata": {
        "colab": {
          "base_uri": "https://localhost:8080/",
          "height": 563
        },
        "id": "b1npEdjgTqU_",
        "outputId": "9c382cbe-c2fd-4f17-b164-4ddc0f9eab80"
      },
      "source": [
        "plt.figure(figsize=(15,8))\n",
        "sns.barplot(stateCrime['state'],stateCrime['Data.Population'])\n",
        "plt.show()"
      ],
      "execution_count": null,
      "outputs": [
        {
          "output_type": "stream",
          "text": [
            "/usr/local/lib/python3.7/dist-packages/seaborn/_decorators.py:43: FutureWarning: Pass the following variables as keyword args: x, y. From version 0.12, the only valid positional argument will be `data`, and passing other arguments without an explicit keyword will result in an error or misinterpretation.\n",
            "  FutureWarning\n"
          ],
          "name": "stderr"
        },
        {
          "output_type": "display_data",
          "data": {
            "image/png": "[encoded data removed]",
            "text/plain": [
              "<Figure size 1080x576 with 1 Axes>"
            ]
          },
          "metadata": {
            "tags": [],
            "needs_background": "light"
          }
        }
      ]
    },
    {
      "cell_type": "code",
      "metadata": {
        "colab": {
          "base_uri": "https://localhost:8080/",
          "height": 248
        },
        "id": "sbVytOp-MDV8",
        "outputId": "8d3af29e-3ada-4b97-a2bc-734871d3df9d"
      },
      "source": [
        "a = [stateCrime['Data.Rates.Property.Burglary'].mean(),stateCrime['Data.Rates.Property.Larceny'].mean(),stateCrime['Data.Rates.Property.Motor'].mean()]\n",
        "b = ['Burglary','Larceny','Motor']\n",
        "plt.pie(a,labels=b,autopct=\"%d\")\n",
        "plt.show()"
      ],
      "execution_count": null,
      "outputs": [
        {
          "output_type": "display_data",
          "data": {
            "image/png": "[encoded data removed]",
            "text/plain": [
              "<Figure size 432x288 with 1 Axes>"
            ]
          },
          "metadata": {
            "tags": []
          }
        }
      ]
    },
    {
      "cell_type": "markdown",
      "metadata": {
        "id": "6w4z4HkxM96o"
      },
      "source": [
        "# *Data Training and Testing*"
      ]
    },
    {
      "cell_type": "code",
      "metadata": {
        "id": "DJ2xgwNu46E_"
      },
      "source": [
        "x = stateCrime[['state','Year','Data.Population','Data.Totals.Property.Burglary','Data.Totals.Property.Larceny','Data.Totals.Property.Motor','Data.Rates.Property.Burglary','Data.Rates.Property.Larceny','Data.Rates.Property.Motor','Data.Rates.Violent.Assault','Data.Rates.Violent.Murder','Data.Rates.Violent.Rape','Data.Rates.Violent.Robbery','Data.Totals.Property.Motor','Data.Totals.Property.Larceny','Data.Totals.Property.Burglary','Data.Totals.Violent.Robbery','Data.Totals.Violent.Rape','Data.Totals.Violent.Murder','Data.Totals.Violent.Assault']]\n",
        "y = stateCrime['Data.Totals.Property.All']+stateCrime['Data.Totals.Violent.All']"
      ],
      "execution_count": null,
      "outputs": []
    },
    {
      "cell_type": "code",
      "metadata": {
        "id": "tD6YZS736Y9L"
      },
      "source": [
        "x_train,x_test,y_train,y_test = train_test_split(x,y,test_size=0.4,random_state=10)"
      ],
      "execution_count": null,
      "outputs": []
    },
    {
      "cell_type": "code",
      "metadata": {
        "colab": {
          "base_uri": "https://localhost:8080/"
        },
        "id": "LYcIKPa_72HJ",
        "outputId": "18b12191-e973-43f3-bd88-e3c72129b353"
      },
      "source": [
        "print(f'x_train = {len(x_train)}, y_train = {len(y_train)}, x_test= {len(x_test)}, y_test = {len(y_test)}')"
      ],
      "execution_count": null,
      "outputs": [
        {
          "output_type": "stream",
          "text": [
            "x_train = 1650, y_train = 1650,x_test= 1101, y_test = 1101\n"
          ],
          "name": "stdout"
        }
      ]
    },
    {
      "cell_type": "markdown",
      "metadata": {
        "id": "9sQjTEc0aSp6"
      },
      "source": [
        "#*Linear Regression* "
      ]
    },
    {
      "cell_type": "code",
      "metadata": {
        "colab": {
          "base_uri": "https://localhost:8080/"
        },
        "id": "11eE_SKx8rpc",
        "outputId": "80100927-a255-4c2f-ab0d-0c8e8f299f2a"
      },
      "source": [
        "Lreg = LinearRegression()\n",
        "Lreg.fit(x_train,y_train) "
      ],
      "execution_count": null,
      "outputs": [
        {
          "output_type": "execute_result",
          "data": {
            "text/plain": [
              "LinearRegression(copy_X=True, fit_intercept=True, n_jobs=None, normalize=False)"
            ]
          },
          "metadata": {
            "tags": []
          },
          "execution_count": 673
        }
      ]
    },
    {
      "cell_type": "code",
      "metadata": {
        "id": "nApajN6w85tv"
      },
      "source": [
        "y_pred = Lreg.predict(x_test)"
      ],
      "execution_count": null,
      "outputs": []
    },
    {
      "cell_type": "code",
      "metadata": {
        "colab": {
          "base_uri": "https://localhost:8080/"
        },
        "id": "vWEqE4HiC-E2",
        "outputId": "4fd91e4b-f28f-4051-b602-cbf382cf1081"
      },
      "source": [
        "y_pred[:10]"
      ],
      "execution_count": null,
      "outputs": [
        {
          "output_type": "execute_result",
          "data": {
            "text/plain": [
              "array([ 14028.85579074, 120315.48915243, 125923.64141516,  72441.17520784,\n",
              "       546068.56879154,  49138.60116121, 166253.55116238,  82858.43746739,\n",
              "       213134.28993689, 170962.17694085])"
            ]
          },
          "metadata": {
            "tags": []
          },
          "execution_count": 675
        }
      ]
    },
    {
      "cell_type": "code",
      "metadata": {
        "colab": {
          "base_uri": "https://localhost:8080/"
        },
        "id": "ccCC10qG_YmN",
        "outputId": "4ef23d1e-6852-4342-f8a7-1bc72ccb52fd"
      },
      "source": [
        "Train_score = Lreg.score(x_train,y_train)*100\n",
        "Test_score = Lreg.score(x_test,y_test)*100\n",
        "print(f'Train score = {Train_score}, Test score = {Test_score}')"
      ],
      "execution_count": null,
      "outputs": [
        {
          "output_type": "stream",
          "text": [
            "Train score = 99.99999999379916, Test score = 99.99999999857941\n"
          ],
          "name": "stdout"
        }
      ]
    },
    {
      "cell_type": "code",
      "metadata": {
        "id": "7knZs9OB4UIN",
        "colab": {
          "base_uri": "https://localhost:8080/"
        },
        "outputId": "ad0a7a0a-2be3-42b4-cfec-c6270896c019"
      },
      "source": [
        "lin_mean_ae = mean_absolute_error(y_test,y_pred)\n",
        "lin_median_ae = median_absolute_error(y_test,y_pred)\n",
        "print(f'Mean absolute error = {lin_mean_ae}, Median absolute error = {lin_median_ae}')"
      ],
      "execution_count": null,
      "outputs": [
        {
          "output_type": "stream",
          "text": [
            "Mean absolute error = 0.9335431398093526, Median absolute error = 0.4312084629200399\n"
          ],
          "name": "stdout"
        }
      ]
    },
    {
      "cell_type": "code",
      "metadata": {
        "colab": {
          "base_uri": "https://localhost:8080/"
        },
        "id": "6Lju2SJaq3dO",
        "outputId": "b47db594-2424-44d3-88a6-4e3c286cd8b4"
      },
      "source": [
        "Linear_r2 = r2(y_test,y_pred)*100\n",
        "print(f'R square score: {r2(y_test,y_pred)*100}')"
      ],
      "execution_count": null,
      "outputs": [
        {
          "output_type": "stream",
          "text": [
            "R square score: 99.99999999857943\n"
          ],
          "name": "stdout"
        }
      ]
    },
    {
      "cell_type": "markdown",
      "metadata": {
        "id": "jA4xLQ_OaovL"
      },
      "source": [
        "# *DecisionTree Regression*"
      ]
    },
    {
      "cell_type": "code",
      "metadata": {
        "id": "pTh4kaBybA95"
      },
      "source": [
        "from sklearn.tree import DecisionTreeRegressor\n"
      ],
      "execution_count": null,
      "outputs": []
    },
    {
      "cell_type": "code",
      "metadata": {
        "colab": {
          "base_uri": "https://localhost:8080/"
        },
        "id": "CZZIu8sSb_iX",
        "outputId": "efc0e2ee-697b-4446-a218-aca08741318d"
      },
      "source": [
        "print(f'x_train shape = {x_train.shape}, y_train shape = {y_train.shape}')"
      ],
      "execution_count": null,
      "outputs": [
        {
          "output_type": "stream",
          "text": [
            "x_train shape = (1650, 20), y_train shape = (1650,)\n"
          ],
          "name": "stdout"
        }
      ]
    },
    {
      "cell_type": "code",
      "metadata": {
        "colab": {
          "base_uri": "https://localhost:8080/"
        },
        "id": "pDqdK-vFbjNW",
        "outputId": "3f9b1510-d8b9-4cf1-9f39-195f64639d8d"
      },
      "source": [
        "clf = DecisionTreeRegressor()\n",
        "clf.fit(x_train,y_train)"
      ],
      "execution_count": null,
      "outputs": [
        {
          "output_type": "execute_result",
          "data": {
            "text/plain": [
              "DecisionTreeRegressor(ccp_alpha=0.0, criterion='mse', max_depth=None,\n",
              "                      max_features=None, max_leaf_nodes=None,\n",
              "                      min_impurity_decrease=0.0, min_impurity_split=None,\n",
              "                      min_samples_leaf=1, min_samples_split=2,\n",
              "                      min_weight_fraction_leaf=0.0, presort='deprecated',\n",
              "                      random_state=None, splitter='best')"
            ]
          },
          "metadata": {
            "tags": []
          },
          "execution_count": 683
        }
      ]
    },
    {
      "cell_type": "code",
      "metadata": {
        "id": "A9FQJJwbqV2F"
      },
      "source": [
        "y_pred = clf.predict(x_test)"
      ],
      "execution_count": null,
      "outputs": []
    },
    {
      "cell_type": "code",
      "metadata": {
        "colab": {
          "base_uri": "https://localhost:8080/"
        },
        "id": "lPPNAzukqJOi",
        "outputId": "64da2c1f-709f-47ff-bb4f-678fc7935364"
      },
      "source": [
        "Train_score = clf.score(x_train,y_train)*100\n",
        "Test_score = clf.score(x_test,y_test)*100\n",
        "print(f'Train score = {Train_score}, Test score = {Test_score}')"
      ],
      "execution_count": null,
      "outputs": [
        {
          "output_type": "stream",
          "text": [
            "Train score = 100.0, Test score = 99.79383858162488\n"
          ],
          "name": "stdout"
        }
      ]
    },
    {
      "cell_type": "code",
      "metadata": {
        "colab": {
          "base_uri": "https://localhost:8080/"
        },
        "id": "6PLMK3W4rj6i",
        "outputId": "036b3c57-f87b-4fb3-d57f-d127d3a041d6"
      },
      "source": [
        "Dtree_r2 = r2(y_test,y_pred)*100\n",
        "print(f'R square score: {r2(y_test,y_pred)*100}')"
      ],
      "execution_count": null,
      "outputs": [
        {
          "output_type": "stream",
          "text": [
            "R square score: 99.79383858162488\n"
          ],
          "name": "stdout"
        }
      ]
    },
    {
      "cell_type": "code",
      "metadata": {
        "colab": {
          "base_uri": "https://localhost:8080/"
        },
        "id": "Q_BxS36ytiHr",
        "outputId": "8c393c56-98d1-4db4-beba-6393ed54e220"
      },
      "source": [
        "Dtree_mean_ae = mean_absolute_error(y_test,y_pred)\n",
        "Dtree_median_ae = median_absolute_error(y_test,y_pred)\n",
        "print(f'Mean absolute error = {Dtree_mean_ae}, Median absolute error = {Dtree_median_ae}')"
      ],
      "execution_count": null,
      "outputs": [
        {
          "output_type": "stream",
          "text": [
            "Mean absolute error = 14224.653042688466, Median absolute error = 3661.0\n"
          ],
          "name": "stdout"
        }
      ]
    },
    {
      "cell_type": "markdown",
      "metadata": {
        "id": "FFcAS59Etq3o"
      },
      "source": [
        "# *Random Forest*"
      ]
    },
    {
      "cell_type": "code",
      "metadata": {
        "id": "VKKvvU6ntxP5"
      },
      "source": [
        "from sklearn.ensemble import RandomForestRegressor"
      ],
      "execution_count": null,
      "outputs": []
    },
    {
      "cell_type": "code",
      "metadata": {
        "colab": {
          "base_uri": "https://localhost:8080/"
        },
        "id": "Nq6XqxnDuQ4z",
        "outputId": "7548d17c-1e93-4b59-da88-f64768a5fcfd"
      },
      "source": [
        "clf=RandomForestRegressor(max_depth=2,n_estimators=100,random_state=0)\n",
        "clf.fit(x_train,y_train)"
      ],
      "execution_count": null,
      "outputs": [
        {
          "output_type": "execute_result",
          "data": {
            "text/plain": [
              "RandomForestRegressor(bootstrap=True, ccp_alpha=0.0, criterion='mse',\n",
              "                      max_depth=2, max_features='auto', max_leaf_nodes=None,\n",
              "                      max_samples=None, min_impurity_decrease=0.0,\n",
              "                      min_impurity_split=None, min_samples_leaf=1,\n",
              "                      min_samples_split=2, min_weight_fraction_leaf=0.0,\n",
              "                      n_estimators=100, n_jobs=None, oob_score=False,\n",
              "                      random_state=0, verbose=0, warm_start=False)"
            ]
          },
          "metadata": {
            "tags": []
          },
          "execution_count": 689
        }
      ]
    },
    {
      "cell_type": "code",
      "metadata": {
        "id": "j04dtxL6uUB1"
      },
      "source": [
        "y_pred=clf.predict(x_test)"
      ],
      "execution_count": null,
      "outputs": []
    },
    {
      "cell_type": "code",
      "metadata": {
        "colab": {
          "base_uri": "https://localhost:8080/"
        },
        "id": "DHb7N5B6ubKB",
        "outputId": "b0e01962-0a64-4f90-e028-1b5eea54ba0d"
      },
      "source": [
        "Train_score = clf.score(x_train,y_train)*100\n",
        "Test_score = clf.score(x_test,y_test)*100\n",
        "print(f'Train score = {Train_score}, Test score = {Test_score}')"
      ],
      "execution_count": null,
      "outputs": [
        {
          "output_type": "stream",
          "text": [
            "Train score = 97.7726093538174, Test score = 97.33873845619847\n"
          ],
          "name": "stdout"
        }
      ]
    },
    {
      "cell_type": "code",
      "metadata": {
        "colab": {
          "base_uri": "https://localhost:8080/"
        },
        "id": "SKTewNBkug8w",
        "outputId": "9fee3e1f-7b45-4325-bca7-f3efb3aa5cb3"
      },
      "source": [
        "random_r2 = r2(y_test,y_pred)*100\n",
        "print(f'R square score: {r2(y_test,y_pred)*100}')"
      ],
      "execution_count": null,
      "outputs": [
        {
          "output_type": "stream",
          "text": [
            "R square score: 97.33873845619847\n"
          ],
          "name": "stdout"
        }
      ]
    },
    {
      "cell_type": "code",
      "metadata": {
        "colab": {
          "base_uri": "https://localhost:8080/"
        },
        "id": "_yWqXma7ujBB",
        "outputId": "bf5d8e38-f24f-4152-82f8-12aeadecda08"
      },
      "source": [
        "Random_mean_ae = mean_absolute_error(y_test,y_pred)\n",
        "Random_median_ae = median_absolute_error(y_test,y_pred)\n",
        "print(f'Mean absolute error = {Random_mean_ae}, Median absolute error = {Random_median_ae}')"
      ],
      "execution_count": null,
      "outputs": [
        {
          "output_type": "stream",
          "text": [
            "Mean absolute error = 132764.1800087582, Median absolute error = 104368.62094331163\n"
          ],
          "name": "stdout"
        }
      ]
    },
    {
      "cell_type": "markdown",
      "metadata": {
        "id": "-6XTo9ygyMbs"
      },
      "source": [
        "# *KNN* "
      ]
    },
    {
      "cell_type": "code",
      "metadata": {
        "id": "yqkk59OV0njQ"
      },
      "source": [
        "from sklearn.neighbors import KNeighborsRegressor"
      ],
      "execution_count": null,
      "outputs": []
    },
    {
      "cell_type": "code",
      "metadata": {
        "colab": {
          "base_uri": "https://localhost:8080/"
        },
        "id": "bLnXceJk1TdN",
        "outputId": "2b66b77a-416a-44a4-fb50-52373a87f5aa"
      },
      "source": [
        "clf=KNeighborsRegressor()\n",
        "clf.fit(x_train,y_train)"
      ],
      "execution_count": null,
      "outputs": [
        {
          "output_type": "execute_result",
          "data": {
            "text/plain": [
              "KNeighborsRegressor(algorithm='auto', leaf_size=30, metric='minkowski',\n",
              "                    metric_params=None, n_jobs=None, n_neighbors=5, p=2,\n",
              "                    weights='uniform')"
            ]
          },
          "metadata": {
            "tags": []
          },
          "execution_count": 695
        }
      ]
    },
    {
      "cell_type": "code",
      "metadata": {
        "id": "pwIeQpVT1Vxb"
      },
      "source": [
        "y_pre=clf.predict(x_test)"
      ],
      "execution_count": null,
      "outputs": []
    },
    {
      "cell_type": "code",
      "metadata": {
        "colab": {
          "base_uri": "https://localhost:8080/"
        },
        "id": "VS0WdkQz1ZXx",
        "outputId": "48960a11-4b82-4107-a95a-3f3ff0d1c20e"
      },
      "source": [
        "Train_score = clf.score(x_train,y_train)*100\n",
        "Test_score = clf.score(x_test,y_test)*100\n",
        "print(f'Train score = {Train_score}, Test score = {Test_score}')"
      ],
      "execution_count": null,
      "outputs": [
        {
          "output_type": "stream",
          "text": [
            "Train score = 99.69620555576519, Test score = 99.6134024600942\n"
          ],
          "name": "stdout"
        }
      ]
    },
    {
      "cell_type": "code",
      "metadata": {
        "colab": {
          "base_uri": "https://localhost:8080/"
        },
        "id": "r79VeO6R1bkc",
        "outputId": "da085da3-daba-41f2-f45c-f154dd7bfb0d"
      },
      "source": [
        "knn_r2 = r2(y_test,y_pred)*100\n",
        "print(f'R square score: {r2(y_test,y_pred)*100}')"
      ],
      "execution_count": null,
      "outputs": [
        {
          "output_type": "stream",
          "text": [
            "R square score: 97.33873845619847\n"
          ],
          "name": "stdout"
        }
      ]
    },
    {
      "cell_type": "code",
      "metadata": {
        "colab": {
          "base_uri": "https://localhost:8080/"
        },
        "id": "DkMfy4A31dhk",
        "outputId": "788be3fa-2ce7-4644-a87b-95b326922c46"
      },
      "source": [
        "Knn_mean_ae = mean_absolute_error(y_test,y_pred)\n",
        "Knn_median_ae = median_absolute_error(y_test,y_pred)\n",
        "print(f'Mean absolute error = {Knn_mean_ae}, Median absolute error = {Knn_median_ae}')"
      ],
      "execution_count": null,
      "outputs": [
        {
          "output_type": "stream",
          "text": [
            "Mean absolute error = 132764.1800087582, Median absolute error = 104368.62094331163\n"
          ],
          "name": "stdout"
        }
      ]
    },
    {
      "cell_type": "markdown",
      "metadata": {
        "id": "0XwUvNAI1nHc"
      },
      "source": [
        "# *SVM*"
      ]
    },
    {
      "cell_type": "code",
      "metadata": {
        "id": "AUDMQYV81rya"
      },
      "source": [
        "from sklearn import svm\n",
        "from sklearn.preprocessing import StandardScaler    "
      ],
      "execution_count": null,
      "outputs": []
    },
    {
      "cell_type": "code",
      "metadata": {
        "id": "S6IY95N81tgh"
      },
      "source": [
        "x_train = StandardScaler().fit_transform(x_train)\n",
        "x_test = StandardScaler().fit_transform(x_test)"
      ],
      "execution_count": null,
      "outputs": []
    },
    {
      "cell_type": "code",
      "metadata": {
        "colab": {
          "base_uri": "https://localhost:8080/"
        },
        "id": "sPClDd792V8b",
        "outputId": "f5ae2504-f295-4bf5-aae7-af2c6deb6a3c"
      },
      "source": [
        "clf=svm.SVR(C=1,gamma=0.01)\n",
        "clf.fit(x_train,y_train)"
      ],
      "execution_count": null,
      "outputs": [
        {
          "output_type": "execute_result",
          "data": {
            "text/plain": [
              "SVR(C=1, cache_size=200, coef0=0.0, degree=3, epsilon=0.1, gamma=0.01,\n",
              "    kernel='rbf', max_iter=-1, shrinking=True, tol=0.001, verbose=False)"
            ]
          },
          "metadata": {
            "tags": []
          },
          "execution_count": 702
        }
      ]
    },
    {
      "cell_type": "code",
      "metadata": {
        "id": "67odImIr2fNE"
      },
      "source": [
        "y_pre=clf.predict(x_test)"
      ],
      "execution_count": null,
      "outputs": []
    },
    {
      "cell_type": "code",
      "metadata": {
        "colab": {
          "base_uri": "https://localhost:8080/"
        },
        "id": "PShKYzmK2oj1",
        "outputId": "12cbb489-d655-4205-fd99-873e55896e1d"
      },
      "source": [
        "Train_score = clf.score(x_train,y_train)*100\n",
        "Test_score = clf.score(x_test,y_test)*100\n",
        "print(f'Train score = {Train_score}, Test score = {Test_score}')"
      ],
      "execution_count": null,
      "outputs": [
        {
          "output_type": "stream",
          "text": [
            "Train score = -3.870988614244375, Test score = -3.4109533679841153\n"
          ],
          "name": "stdout"
        }
      ]
    },
    {
      "cell_type": "code",
      "metadata": {
        "colab": {
          "base_uri": "https://localhost:8080/"
        },
        "id": "_7dePvFT2qFn",
        "outputId": "659d5c9d-4301-4263-e7a8-df81612f9921"
      },
      "source": [
        "svm_r2 = r2(y_test,y_pred)*100\n",
        "print(f'R square score: {r2(y_test,y_pred)*100}')"
      ],
      "execution_count": null,
      "outputs": [
        {
          "output_type": "stream",
          "text": [
            "R square score: 97.33873845619847\n"
          ],
          "name": "stdout"
        }
      ]
    },
    {
      "cell_type": "code",
      "metadata": {
        "colab": {
          "base_uri": "https://localhost:8080/"
        },
        "id": "VgOzVE472rZm",
        "outputId": "86cde50b-936c-462a-f517-80797ce43a07"
      },
      "source": [
        "Svm_mean_ae = mean_absolute_error(y_test,y_pred)\n",
        "Svm_median_ae = median_absolute_error(y_test,y_pred)\n",
        "print(f'Mean absolute error = {Svm_mean_ae}, Median absolute error = {Svm_median_ae}')"
      ],
      "execution_count": null,
      "outputs": [
        {
          "output_type": "stream",
          "text": [
            "Mean absolute error = 132764.1800087582, Median absolute error = 104368.62094331163\n"
          ],
          "name": "stdout"
        }
      ]
    },
    {
      "cell_type": "markdown",
      "metadata": {
        "id": "whoUSW_63qCm"
      },
      "source": [
        "# **Accuracy Check**\n"
      ]
    },
    {
      "cell_type": "code",
      "metadata": {
        "id": "phBrJlI14m5z"
      },
      "source": [
        "Mean_accuracy = {'Linear Regression':lin_mean_ae,'Decision Tree':Dtree_mean_ae,'Random Forest':Random_mean_ae,'KNN':Knn_mean_ae,'SVM':Svm_mean_ae}\n",
        "Median_accuracy = {'Linear Regression':lin_median_ae,'Decision Tree':Dtree_median_ae,'Random Forest':Random_median_ae,'KNN':Knn_median_ae,'SVM':Svm_median_ae}\n",
        "R2_accuracy = {'Linear Regression':Linear_r2,'Decision Tree':Dtree_r2,'Random Forest':random_r2,'KNN':knn_r2,'SVM':svm_r2}"
      ],
      "execution_count": null,
      "outputs": []
    },
    {
      "cell_type": "code",
      "metadata": {
        "colab": {
          "base_uri": "https://localhost:8080/"
        },
        "id": "11jFbuVe80ef",
        "outputId": "c71064a0-9017-493b-f2ec-ef25ac5abd2c"
      },
      "source": [
        "print(f'Lowest Mean Ansolute Error {min(Mean_accuracy)}')\n",
        "print()\n",
        "print(f'Lowest Median Ansolute Error {min(Median_accuracy)}')\n",
        "print()\n",
        "print(f'Lowest R square value {min(R2_accuracy)}')"
      ],
      "execution_count": null,
      "outputs": [
        {
          "output_type": "stream",
          "text": [
            "Lowest Mean Ansolute Error Decision Tree\n",
            "\n",
            "Lowest Median Ansolute Error Decision Tree\n",
            "\n",
            "Lowest R square value Decision Tree\n"
          ],
          "name": "stdout"
        }
      ]
    },
    {
      "cell_type": "markdown",
      "metadata": {
        "id": "tLb8TgtpCShi"
      },
      "source": [
        "# **Results**"
      ]
    },
    {
      "cell_type": "markdown",
      "metadata": {
        "id": "VMCw4RolBRVX"
      },
      "source": [
        "*From the above results it is proven that **Decision Tree Regression Algorithm** has high accurucy for predicting crimes*"
      ]
    }
  ]
}